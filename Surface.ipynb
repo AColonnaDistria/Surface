{
 "cells": [
  {
   "cell_type": "code",
   "execution_count": 27,
   "metadata": {},
   "outputs": [],
   "source": [
    "%matplotlib inline\n",
    "import matplotlib.pyplot as plt\n",
    "from sympy import *\n",
    "from sympy.plotting import plot3d_parametric_surface\n",
    "import sympy as sp\n",
    "import numpy as np\n",
    "\n",
    "from IPython.display import Math\n",
    "from IPython.display import Markdown, display"
   ]
  },
  {
   "cell_type": "code",
   "execution_count": 28,
   "metadata": {
    "tags": [
     "hide_input",
     "hide-cell"
    ]
   },
   "outputs": [],
   "source": [
    "init_printing(use_unicode=True)\n",
    "u, v, t = symbols('u v t')\n",
    "\n",
    "def printmd(string):\n",
    "    display(Markdown(string))\n",
    "    \n",
    "def printmh(string):\n",
    "    display(Markdown(\"$\" + string + \"$\"))\n",
    "\n",
    "def vectorialProduct(v1, v2):\n",
    "    v1x, v1y, v1z = v1\n",
    "    v2x, v2y, v2z = v2\n",
    "    \n",
    "    wx = v1y * v2z - v1z * v2y\n",
    "    wy = v1z * v2x - v1x * v2z\n",
    "    wz = v1x * v2y - v1y * v2x\n",
    "\n",
    "    norm = sqrt(wx ** 2 + wy ** 2 + wz ** 2)\n",
    "    wx = simplify(wx / norm)\n",
    "    wy = simplify(wy / norm)\n",
    "    wz = simplify(wz / norm)\n",
    "    \n",
    "    return wx, wy, wz\n",
    "\n",
    "def scalarProduct(v1, v2):\n",
    "    v1x, v1y, v1z = v1\n",
    "    v2x, v2y, v2z = v2\n",
    "    \n",
    "    w = simplify(v1x * v2x + v1y * v2y + v1z * v2z)\n",
    "    return w"
   ]
  },
  {
   "cell_type": "code",
   "execution_count": 29,
   "metadata": {
    "tags": [
     "hide-input"
    ]
   },
   "outputs": [],
   "source": [
    "def cylinder():\n",
    "    return cos(u), sin(u), v, -5, 5, -5, 5\n",
    "\n",
    "def helicoid(a = 2):\n",
    "    return v * cos(u), v * sin(u), a * u, -5, 5, -5, 5\n",
    "\n",
    "def torus(R = 2, r = 1):\n",
    "    return (R + r * cos(u)) * cos(v), (R + r * cos(u)) * sin(v), r * sin(u), 0, 2*pi, 0, 2*pi\n",
    "\n",
    "def mobiusStrip(r =  1):\n",
    "    return (r + u * cos(v)) * cos(2 * v), (r + u * cos(v)) * sin(2 * v), u * sin(v), -0.5, 0.5, 0, pi\n",
    "\n",
    "def sphere(R = 1):\n",
    "    return R * cos(u) * cos(v), R * sin(u) * cos(v), R * sin(v), -pi, pi, -pi/2, pi/2\n",
    "\n",
    "def pseudosphere():\n",
    "    return cos(v) * (u - tanh(u)), sin(v) * (u - tanh(u)), 1 / cosh(u), 0, 10, 0, 2 * pi\n",
    "\n",
    "def saddle():\n",
    "    return u, v, u * v, -10, 10, -10, 10\n",
    "\n",
    "def revolutionSurface(g, h, umin=-5, umax=5, vmin=-5, vmax=5):\n",
    "    return g * cos(v), g * sin(v), h, umin, umax, vmin, vmax\n",
    "\n",
    "def ruledSurface(alpha, beta, umin=-5, umax=5, vmin=-5, vmax=5):\n",
    "    alpha_x, alpha_y, alpha_z = alpha\n",
    "    beta_x, beta_y, beta_z = beta\n",
    "    \n",
    "    return alpha_x + v * beta_x, alpha_y + v * beta_y, alpha_z + v * beta_z\n",
    "\n",
    "def catenoid(a = 1, umin=-1, umax=1):\n",
    "    return a * cosh(u) * cos(v), a * cosh(u) * sin(v), a * u, umin, umax, 0, 2 * pi\n",
    "\n",
    "def zeroPlane():\n",
    "    return plane((1,0,0), (0,1,0))\n",
    "    \n",
    "def plane(v1, v2, umin=-5, umax=5, vmin=-5, vmax=5):\n",
    "    v1x, v1y, v1z = v1\n",
    "    v2x, v2y, v2z = v2\n",
    "    \n",
    "    return u * v1x + v * v2x, u * v1y + v * v2y, u * v1z + v * v2z, umin, umax, vmin, vmax"
   ]
  },
  {
   "cell_type": "code",
   "execution_count": 30,
   "metadata": {
    "tags": [
     "hide-input"
    ]
   },
   "outputs": [],
   "source": [
    "def tangentPlane(fu, fv, u0, v0, umin=-5, umax=5, vmin=-5, vmax=5):\n",
    "    fu0x = fu[0].evalf(subs={u: u0, v: v0})\n",
    "    fu0y = fu[1].evalf(subs={u: u0, v: v0})\n",
    "    fu0z = fu[2].evalf(subs={u: u0, v: v0})\n",
    "    \n",
    "    fv0x = fv[0].evalf(subs={u: u0, v: v0})\n",
    "    fv0y = fv[1].evalf(subs={u: u0, v: v0})\n",
    "    fv0z = fv[2].evalf(subs={u: u0, v: v0})\n",
    "    \n",
    "    fu0 = fu0x, fu0y, fu0z\n",
    "    fv0 = fv0x, fv0y, fv0z\n",
    "    \n",
    "    return plane(fu0, fv0)\n",
    "\n",
    "def plotTangentPlane(fu, fv, u0, v0, umin=-5, umax=5, vmin=-5, vmax=5):\n",
    "    fx, fy, fz, umin, umax, vmin, vmax = tangentPlane(fu, fv, u0, v0, umin, umax, vmin, vmax)\n",
    "    \n",
    "    p = plot3d_parametric_surface(fx, fy, fz, (u, umin, umax), (v, vmin, vmax))"
   ]
  },
  {
   "cell_type": "code",
   "execution_count": 31,
   "metadata": {},
   "outputs": [],
   "source": [
    "fx, fy, fz, u_min, u_max, v_min, v_max = torus()\n",
    "\n",
    "#fx = eval(input(\"x(u, v) =\"))\n",
    "#fy = eval(input(\"y(u, v) =\"))\n",
    "#fz = eval(input(\"z(u, v) =\"))\n",
    "\n",
    "#u_min = eval(input(\"u_min =\"))\n",
    "#u_max = eval(input(\"u_max =\"))\n",
    "#v_min = eval(input(\"v_min =\"))\n",
    "#v_max = eval(input(\"v_max =\"))\n",
    "\n",
    "f = (fx, fy, fz)"
   ]
  },
  {
   "cell_type": "code",
   "execution_count": 32,
   "metadata": {
    "tags": [
     "hide-input"
    ]
   },
   "outputs": [],
   "source": [
    "fux = simplify(diff(fx, u))\n",
    "fuy = simplify(diff(fy, u))\n",
    "fuz = simplify(diff(fz, u))\n",
    "\n",
    "fvx = simplify(diff(fx, v))\n",
    "fvy = simplify(diff(fy, v))\n",
    "fvz = simplify(diff(fz, v))\n",
    "\n",
    "fuux = diff(fux, u)\n",
    "fuuy = diff(fuy, u)\n",
    "fuuz = diff(fuz, u)\n",
    "\n",
    "fuvx = diff(fux, v)\n",
    "fuvy = diff(fuy, v)\n",
    "fuvz = diff(fuz, v)\n",
    "\n",
    "fvvx = diff(fvx, v)\n",
    "fvvy = diff(fvy, v)\n",
    "fvvz = diff(fvz, v)\n",
    "\n",
    "fu = (fux, fuy, fuz)\n",
    "fv = (fvx, fvy, fvz)\n",
    "fuu = (fuux, fuuy, fuuz)\n",
    "fuv = (fuvx, fuvy, fuvz)\n",
    "fvv = (fvvx, fvvy, fvvz)\n",
    "\n",
    "n = vectorialProduct(fu, fv)\n",
    "\n",
    "E = scalarProduct(fu, fu)\n",
    "F = scalarProduct(fu, fv)\n",
    "G = scalarProduct(fv, fv)\n",
    "\n",
    "Ip = Matrix([[E, F], [F,G]])\n",
    "\n",
    "P = scalarProduct(fuu, n)\n",
    "Q = scalarProduct(fuv, n)\n",
    "R = scalarProduct(fvv, n)\n",
    "\n",
    "IIp = Matrix([[P, Q], [Q, R]])\n",
    "Fp = simplify(Ip ** (-1) * IIp)\n",
    "\n",
    "detIp = simplify(E*G - F**2)\n",
    "detIIp = simplify(P*R - Q**2)\n",
    "\n",
    "gaussCurvature = simplify(detIIp / detIp)\n",
    "meanCurvature = simplify(1 / 2 * simplify(E*R + G*P - 2*F*Q) / detIp)\n",
    "\n",
    "# detect properties\n",
    "conforme = (simplify(E - G) == 0 and simplify(F) == 0)\n",
    "minimal = (simplify(meanCurvature) == 0)"
   ]
  },
  {
   "cell_type": "code",
   "execution_count": 33,
   "metadata": {
    "scrolled": false,
    "tags": [
     "hide-input"
    ]
   },
   "outputs": [
    {
     "data": {
      "image/png": "[encoded data removed]",
      "text/plain": [
       "<Figure size 432x288 with 1 Axes>"
      ]
     },
     "metadata": {
      "needs_background": "light"
     },
     "output_type": "display_data"
    },
    {
     "data": {
      "text/markdown": [
       "$x(u, v) = \\left(\\cos{\\left(u \\right)} + 2\\right) \\cos{\\left(v \\right)}$"
      ],
      "text/plain": [
       "<IPython.core.display.Markdown object>"
      ]
     },
     "metadata": {},
     "output_type": "display_data"
    },
    {
     "data": {
      "text/markdown": [
       "$y(u, v) =\\left(\\cos{\\left(u \\right)} + 2\\right) \\sin{\\left(v \\right)}$"
      ],
      "text/plain": [
       "<IPython.core.display.Markdown object>"
      ]
     },
     "metadata": {},
     "output_type": "display_data"
    },
    {
     "data": {
      "text/markdown": [
       "$z(u, v) =\\sin{\\left(u \\right)}$"
      ],
      "text/plain": [
       "<IPython.core.display.Markdown object>"
      ]
     },
     "metadata": {},
     "output_type": "display_data"
    },
    {
     "data": {
      "text/markdown": [],
      "text/plain": [
       "<IPython.core.display.Markdown object>"
      ]
     },
     "metadata": {},
     "output_type": "display_data"
    },
    {
     "data": {
      "text/markdown": [
       "$f_u =\\left( - \\sin{\\left(u \\right)} \\cos{\\left(v \\right)}, \\  - \\sin{\\left(u \\right)} \\sin{\\left(v \\right)}, \\  \\cos{\\left(u \\right)}\\right)$"
      ],
      "text/plain": [
       "<IPython.core.display.Markdown object>"
      ]
     },
     "metadata": {},
     "output_type": "display_data"
    },
    {
     "data": {
      "text/markdown": [
       "$f_v =\\left( - \\left(\\cos{\\left(u \\right)} + 2\\right) \\sin{\\left(v \\right)}, \\  \\left(\\cos{\\left(u \\right)} + 2\\right) \\cos{\\left(v \\right)}, \\  0\\right)$"
      ],
      "text/plain": [
       "<IPython.core.display.Markdown object>"
      ]
     },
     "metadata": {},
     "output_type": "display_data"
    },
    {
     "data": {
      "text/markdown": [],
      "text/plain": [
       "<IPython.core.display.Markdown object>"
      ]
     },
     "metadata": {},
     "output_type": "display_data"
    },
    {
     "data": {
      "text/markdown": [
       "$n =\\left( - \\frac{\\left(\\cos{\\left(u \\right)} + 2\\right) \\cos{\\left(u \\right)} \\cos{\\left(v \\right)}}{\\sqrt{\\left(\\cos{\\left(u \\right)} + 2\\right)^{2}}}, \\  - \\frac{\\left(\\cos{\\left(u \\right)} + 2\\right) \\sin{\\left(v \\right)} \\cos{\\left(u \\right)}}{\\sqrt{\\left(\\cos{\\left(u \\right)} + 2\\right)^{2}}}, \\  - \\frac{\\left(\\cos{\\left(u \\right)} + 2\\right) \\sin{\\left(u \\right)}}{\\sqrt{\\left(\\cos{\\left(u \\right)} + 2\\right)^{2}}}\\right)$"
      ],
      "text/plain": [
       "<IPython.core.display.Markdown object>"
      ]
     },
     "metadata": {},
     "output_type": "display_data"
    },
    {
     "data": {
      "text/markdown": [],
      "text/plain": [
       "<IPython.core.display.Markdown object>"
      ]
     },
     "metadata": {},
     "output_type": "display_data"
    },
    {
     "data": {
      "text/markdown": [
       "First fundamental form:"
      ],
      "text/plain": [
       "<IPython.core.display.Markdown object>"
      ]
     },
     "metadata": {},
     "output_type": "display_data"
    },
    {
     "data": {
      "text/markdown": [
       "$E =1$"
      ],
      "text/plain": [
       "<IPython.core.display.Markdown object>"
      ]
     },
     "metadata": {},
     "output_type": "display_data"
    },
    {
     "data": {
      "text/markdown": [
       "$F =0$"
      ],
      "text/plain": [
       "<IPython.core.display.Markdown object>"
      ]
     },
     "metadata": {},
     "output_type": "display_data"
    },
    {
     "data": {
      "text/markdown": [
       "$G =\\left(\\cos{\\left(u \\right)} + 2\\right)^{2}$"
      ],
      "text/plain": [
       "<IPython.core.display.Markdown object>"
      ]
     },
     "metadata": {},
     "output_type": "display_data"
    },
    {
     "data": {
      "text/markdown": [
       "$I_p =\\left[\\begin{matrix}1 & 0\\\\0 & \\left(\\cos{\\left(u \\right)} + 2\\right)^{2}\\end{matrix}\\right]$"
      ],
      "text/plain": [
       "<IPython.core.display.Markdown object>"
      ]
     },
     "metadata": {},
     "output_type": "display_data"
    },
    {
     "data": {
      "text/markdown": [],
      "text/plain": [
       "<IPython.core.display.Markdown object>"
      ]
     },
     "metadata": {},
     "output_type": "display_data"
    },
    {
     "data": {
      "text/markdown": [
       "Second fundamental form:"
      ],
      "text/plain": [
       "<IPython.core.display.Markdown object>"
      ]
     },
     "metadata": {},
     "output_type": "display_data"
    },
    {
     "data": {
      "text/markdown": [
       "$P =\\frac{\\cos{\\left(u \\right)} + 2}{\\sqrt{\\left(\\cos{\\left(u \\right)} + 2\\right)^{2}}}$"
      ],
      "text/plain": [
       "<IPython.core.display.Markdown object>"
      ]
     },
     "metadata": {},
     "output_type": "display_data"
    },
    {
     "data": {
      "text/markdown": [
       "$Q =0$"
      ],
      "text/plain": [
       "<IPython.core.display.Markdown object>"
      ]
     },
     "metadata": {},
     "output_type": "display_data"
    },
    {
     "data": {
      "text/markdown": [
       "$R =\\sqrt{\\left(\\cos{\\left(u \\right)} + 2\\right)^{2}} \\cos{\\left(u \\right)}$"
      ],
      "text/plain": [
       "<IPython.core.display.Markdown object>"
      ]
     },
     "metadata": {},
     "output_type": "display_data"
    },
    {
     "data": {
      "text/markdown": [
       "$II_p =\\left[\\begin{matrix}\\frac{\\cos{\\left(u \\right)} + 2}{\\sqrt{\\left(\\cos{\\left(u \\right)} + 2\\right)^{2}}} & 0\\\\0 & \\sqrt{\\left(\\cos{\\left(u \\right)} + 2\\right)^{2}} \\cos{\\left(u \\right)}\\end{matrix}\\right]$"
      ],
      "text/plain": [
       "<IPython.core.display.Markdown object>"
      ]
     },
     "metadata": {},
     "output_type": "display_data"
    },
    {
     "data": {
      "text/markdown": [],
      "text/plain": [
       "<IPython.core.display.Markdown object>"
      ]
     },
     "metadata": {},
     "output_type": "display_data"
    },
    {
     "data": {
      "text/markdown": [
       "$F_p =\\left[\\begin{matrix}\\frac{\\cos{\\left(u \\right)} + 2}{\\sqrt{\\left(\\cos{\\left(u \\right)} + 2\\right)^{2}}} & 0\\\\0 & \\frac{\\cos{\\left(u \\right)}}{\\sqrt{\\left(\\cos{\\left(u \\right)} + 2\\right)^{2}}}\\end{matrix}\\right]$"
      ],
      "text/plain": [
       "<IPython.core.display.Markdown object>"
      ]
     },
     "metadata": {},
     "output_type": "display_data"
    },
    {
     "data": {
      "text/markdown": [],
      "text/plain": [
       "<IPython.core.display.Markdown object>"
      ]
     },
     "metadata": {},
     "output_type": "display_data"
    },
    {
     "data": {
      "text/markdown": [
       "Curvature:"
      ],
      "text/plain": [
       "<IPython.core.display.Markdown object>"
      ]
     },
     "metadata": {},
     "output_type": "display_data"
    },
    {
     "data": {
      "text/markdown": [
       "Gauss curvature: $K =\\frac{\\cos{\\left(u \\right)}}{\\cos{\\left(u \\right)} + 2}$"
      ],
      "text/plain": [
       "<IPython.core.display.Markdown object>"
      ]
     },
     "metadata": {},
     "output_type": "display_data"
    },
    {
     "data": {
      "text/markdown": [
       "Mean curvature: $H =\\frac{1.0 \\left(\\cos{\\left(u \\right)} + 1\\right)}{\\sqrt{\\left(\\cos{\\left(u \\right)} + 2\\right)^{2}}}$"
      ],
      "text/plain": [
       "<IPython.core.display.Markdown object>"
      ]
     },
     "metadata": {},
     "output_type": "display_data"
    },
    {
     "data": {
      "text/markdown": [],
      "text/plain": [
       "<IPython.core.display.Markdown object>"
      ]
     },
     "metadata": {},
     "output_type": "display_data"
    }
   ],
   "source": [
    "p = plot3d_parametric_surface(fx, fy, fz, (u, u_min, u_max), (v, v_min, v_max))\n",
    "fig = p._backend.fig\n",
    "\n",
    "printmh(\"x(u, v) = \" + latex(fx))\n",
    "printmh(\"y(u, v) =\" + latex(fy))\n",
    "printmh(\"z(u, v) =\" + latex(fz))\n",
    "\n",
    "printmd(\"\")\n",
    "\n",
    "printmh(\"f_u =\" + latex(fu))\n",
    "printmh(\"f_v =\" + latex(fv))\n",
    "\n",
    "printmd(\"\")\n",
    "\n",
    "printmh(\"n =\" + latex(n))\n",
    "\n",
    "printmd(\"\")\n",
    "\n",
    "printmd(\"First fundamental form:\")\n",
    "printmh(\"E =\" + latex(E))\n",
    "printmh(\"F =\" + latex(F))\n",
    "printmh(\"G =\" + latex(G))\n",
    "printmh(\"I_p =\" + latex(Ip))\n",
    "\n",
    "printmd(\"\")\n",
    "\n",
    "printmd(\"Second fundamental form:\")\n",
    "printmh(\"P =\" + latex(P))\n",
    "printmh(\"Q =\" + latex(Q))\n",
    "printmh(\"R =\" + latex(R))\n",
    "printmh(\"II_p =\" + latex(IIp))\n",
    "\n",
    "printmd(\"\")\n",
    "\n",
    "printmh(\"F_p =\" + latex(Fp))\n",
    "\n",
    "printmd(\"\")\n",
    "\n",
    "printmd(\"Curvature:\")\n",
    "printmd(\"Gauss curvature: $K =\" + latex(gaussCurvature) + \"$\")\n",
    "printmd(\"Mean curvature: $H =\" + latex(meanCurvature) + \"$\")\n",
    "\n",
    "printmd(\"\")\n",
    "\n",
    "if conforme:\n",
    "    printmd(\"- This parametrization is conform, it preserves the angles\")\n",
    "    \n",
    "if minimal:\n",
    "    printmd(\"- The surface is minimal\")"
   ]
  },
  {
   "cell_type": "code",
   "execution_count": 37,
   "metadata": {},
   "outputs": [],
   "source": [
    "def det(phi1, phi2):\n",
    "    phi1_x, phi1_y = phi1\n",
    "    phi2_x, phi2_y = phi2\n",
    "    \n",
    "    return simplify(phi1_x * phi2_y - phi2_x * phi1_y)\n",
    "\n",
    "def scalarProduct2(v1, v2):\n",
    "    v1x, v1y = v1\n",
    "    v2x, v2y = v2\n",
    "    \n",
    "    w = simplify(v1x * v2x + v1y * v2y)\n",
    "    return w"
   ]
  },
  {
   "cell_type": "code",
   "execution_count": 38,
   "metadata": {},
   "outputs": [],
   "source": [
    "phi_x = t\n",
    "phi_y = log(t)\n",
    "\n",
    "phi = (phi_x, phi_y)\n",
    "\n",
    "dphi_x = simplify(Derivative(phi_x, t))\n",
    "dphi_y = simplify(Derivative(phi_y, t))\n",
    "\n",
    "dphi = dphi_x, dphi_y\n",
    "\n",
    "d2phi_x = simplify(Derivative(dphi_x, t))\n",
    "d2phi_y = simplify(Derivative(dphi_y, t))\n",
    "\n",
    "d2phi = d2phi_x, d2phi_y\n",
    "\n",
    "# Curvature\n",
    "\n",
    "dphiNorm2 = scalarProduct2(dphi, dphi)\n",
    "curvature = det(dphi, d2phi) / (sqrt((dphiNorm2)**3))\n",
    "\n",
    "# Osculating circle\n",
    "denom = simplify(dphi_x * d2phi_y - dphi_y * d2phi_x)\n",
    "alpha = simplify((dphi_y * dphiNorm2)/denom + phi_x)\n",
    "beta = simplify((dphi_x * dphiNorm2)/denom + phi_y)\n",
    "R = simplify(1 / curvature)\n",
    "\n",
    "#osculating Circle = Eq(part1 ** 2 + part2 ** 2, simplify(R ** 2))"
   ]
  },
  {
   "cell_type": "code",
   "execution_count": 39,
   "metadata": {},
   "outputs": [
    {
     "data": {
      "image/png": "[encoded data removed]",
      "text/plain": [
       "<Figure size 432x288 with 1 Axes>"
      ]
     },
     "metadata": {
      "needs_background": "light"
     },
     "output_type": "display_data"
    },
    {
     "data": {
      "text/markdown": [
       "$x(t) = t$"
      ],
      "text/plain": [
       "<IPython.core.display.Markdown object>"
      ]
     },
     "metadata": {},
     "output_type": "display_data"
    },
    {
     "data": {
      "text/markdown": [
       "$y(t) = \\log{\\left(t \\right)}$"
      ],
      "text/plain": [
       "<IPython.core.display.Markdown object>"
      ]
     },
     "metadata": {},
     "output_type": "display_data"
    },
    {
     "data": {
      "text/markdown": [
       "$x'(t) = 1$"
      ],
      "text/plain": [
       "<IPython.core.display.Markdown object>"
      ]
     },
     "metadata": {},
     "output_type": "display_data"
    },
    {
     "data": {
      "text/markdown": [
       "$y'(t) = \\frac{1}{t}$"
      ],
      "text/plain": [
       "<IPython.core.display.Markdown object>"
      ]
     },
     "metadata": {},
     "output_type": "display_data"
    },
    {
     "data": {
      "text/markdown": [
       "$x''(t) = 0$"
      ],
      "text/plain": [
       "<IPython.core.display.Markdown object>"
      ]
     },
     "metadata": {},
     "output_type": "display_data"
    },
    {
     "data": {
      "text/markdown": [
       "$y''(t) = - \\frac{1}{t^{2}}$"
      ],
      "text/plain": [
       "<IPython.core.display.Markdown object>"
      ]
     },
     "metadata": {},
     "output_type": "display_data"
    },
    {
     "data": {
      "text/markdown": [
       "Curvature:"
      ],
      "text/plain": [
       "<IPython.core.display.Markdown object>"
      ]
     },
     "metadata": {},
     "output_type": "display_data"
    },
    {
     "data": {
      "text/markdown": [
       "$\\kappa(t) = - \\frac{1}{t^{2} \\sqrt{\\left(1 + \\frac{1}{t^{2}}\\right)^{3}}}$"
      ],
      "text/plain": [
       "<IPython.core.display.Markdown object>"
      ]
     },
     "metadata": {},
     "output_type": "display_data"
    },
    {
     "data": {
      "text/markdown": [
       "Osculating circle:"
      ],
      "text/plain": [
       "<IPython.core.display.Markdown object>"
      ]
     },
     "metadata": {},
     "output_type": "display_data"
    },
    {
     "data": {
      "text/markdown": [
       "$(x(t) - (- \\frac{1}{t}))^2 + (y(t) - (- t^{2} + \\log{\\left(t \\right)} - 1))^2 = (- t^{2} \\sqrt{\\frac{\\left(t^{2} + 1\\right)^{3}}{t^{6}}})^2$"
      ],
      "text/plain": [
       "<IPython.core.display.Markdown object>"
      ]
     },
     "metadata": {},
     "output_type": "display_data"
    }
   ],
   "source": [
    "p = plot_parametric(phi_x, phi_y)\n",
    "\n",
    "printmh(\"x(t) = \" + latex(phi_x))\n",
    "printmh(\"y(t) = \" + latex(phi_y))\n",
    "\n",
    "printmh(\"x'(t) = \" + latex(dphi_x))\n",
    "printmh(\"y'(t) = \" + latex(dphi_y))\n",
    "\n",
    "printmh(\"x''(t) = \" + latex(d2phi_x))\n",
    "printmh(\"y''(t) = \" + latex(d2phi_y))\n",
    "\n",
    "printmd(\"Curvature:\")\n",
    "printmh(\"\\kappa(t) = \" + latex(curvature))\n",
    "\n",
    "printmd(\"Osculating circle:\")\n",
    "printmh(\"(x(t) - (\" + latex(alpha) + \"))^2 + (y(t) - (\" + latex(beta) + \"))^2 = (\" + latex(R) + \")^2\")"
   ]
  },
  {
   "cell_type": "code",
   "execution_count": null,
   "metadata": {},
   "outputs": [],
   "source": []
  },
  {
   "cell_type": "code",
   "execution_count": null,
   "metadata": {},
   "outputs": [],
   "source": []
  },
  {
   "cell_type": "code",
   "execution_count": null,
   "metadata": {},
   "outputs": [],
   "source": []
  },
  {
   "cell_type": "code",
   "execution_count": null,
   "metadata": {},
   "outputs": [],
   "source": []
  }
 ],
 "metadata": {
  "celltoolbar": "Format de la Cellule Texte Brut",
  "kernelspec": {
   "display_name": "Python 3 (ipykernel)",
   "language": "python",
   "name": "python3"
  },
  "language_info": {
   "codemirror_mode": {
    "name": "ipython",
    "version": 3
   },
   "file_extension": ".py",
   "mimetype": "text/x-python",
   "name": "python",
   "nbconvert_exporter": "python",
   "pygments_lexer": "ipython3",
   "version": "3.10.4"
  }
 },
 "nbformat": 4,
 "nbformat_minor": 4
}
